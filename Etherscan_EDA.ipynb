{
 "cells": [
  {
   "cell_type": "code",
   "execution_count": 29,
   "id": "0edb5984-c482-45c1-844b-1557fa541cb1",
   "metadata": {},
   "outputs": [],
   "source": [
    "import pandas as pd\n",
    "import numpy as np\n",
    "import seaborn as sns\n",
    "import matplotlib.pyplot as plt\n",
    "%matplotlib inline "
   ]
  },
  {
   "cell_type": "markdown",
   "id": "09b9ea05-c439-446a-8eb8-c58781f7d151",
   "metadata": {
    "tags": []
   },
   "source": [
    "### ALL txs "
   ]
  },
  {
   "cell_type": "code",
   "execution_count": 31,
   "id": "17efc5f7-e5ba-43f7-9df0-1990b878dfa4",
   "metadata": {},
   "outputs": [
    {
     "data": {
      "text/plain": [
       "(5000, 16)"
      ]
     },
     "execution_count": 31,
     "metadata": {},
     "output_type": "execute_result"
    }
   ],
   "source": [
    "df1 = pd.read_csv('txs_part_1.csv', index_col=False)\n",
    "df1 = df1.rename(columns={'CurrentValue @ $1103.16/Eth': 'CurrentValue/Eth'})\n",
    "df1.shape"
   ]
  },
  {
   "cell_type": "code",
   "execution_count": 32,
   "id": "a0d2dcc2-c591-4382-8762-c175f9b342c7",
   "metadata": {},
   "outputs": [
    {
     "data": {
      "text/plain": [
       "(2959, 16)"
      ]
     },
     "execution_count": 32,
     "metadata": {},
     "output_type": "execute_result"
    }
   ],
   "source": [
    "df2 = pd.read_csv('txs_part_2.csv', index_col=False)\n",
    "df2 = df2.rename(columns={'CurrentValue @ $1103.52/Eth': 'CurrentValue/Eth'})\n",
    "df2.shape"
   ]
  },
  {
   "cell_type": "code",
   "execution_count": 33,
   "id": "7ffc34cd-a725-4561-8977-ce291bd0ce9a",
   "metadata": {},
   "outputs": [
    {
     "data": {
      "text/html": [
       "<div>\n",
       "<style scoped>\n",
       "    .dataframe tbody tr th:only-of-type {\n",
       "        vertical-align: middle;\n",
       "    }\n",
       "\n",
       "    .dataframe tbody tr th {\n",
       "        vertical-align: top;\n",
       "    }\n",
       "\n",
       "    .dataframe thead th {\n",
       "        text-align: right;\n",
       "    }\n",
       "</style>\n",
       "<table border=\"1\" class=\"dataframe\">\n",
       "  <thead>\n",
       "    <tr style=\"text-align: right;\">\n",
       "      <th></th>\n",
       "      <th>Txhash</th>\n",
       "      <th>Blockno</th>\n",
       "      <th>UnixTimestamp</th>\n",
       "      <th>DateTime</th>\n",
       "      <th>From</th>\n",
       "      <th>To</th>\n",
       "      <th>ContractAddress</th>\n",
       "      <th>Value_IN(ETH)</th>\n",
       "      <th>Value_OUT(ETH)</th>\n",
       "      <th>CurrentValue/Eth</th>\n",
       "      <th>TxnFee(ETH)</th>\n",
       "      <th>TxnFee(USD)</th>\n",
       "      <th>Historical $Price/Eth</th>\n",
       "      <th>Status</th>\n",
       "      <th>ErrCode</th>\n",
       "      <th>Method</th>\n",
       "    </tr>\n",
       "  </thead>\n",
       "  <tbody>\n",
       "    <tr>\n",
       "      <th>0</th>\n",
       "      <td>0x4c3b415bb98370a9ef572567a4e13b61759763c08192...</td>\n",
       "      <td>10595414</td>\n",
       "      <td>1596572493</td>\n",
       "      <td>2020-08-04 20:21:33</td>\n",
       "      <td>0x04045a6c0a9f6ece044510c51b974400ade3ca5b</td>\n",
       "      <td>0x99fd1378ca799ed6772fe7bcdc9b30b389518962</td>\n",
       "      <td>NaN</td>\n",
       "      <td>1.000000</td>\n",
       "      <td>0.0</td>\n",
       "      <td>1.103160e+03</td>\n",
       "      <td>0.000882</td>\n",
       "      <td>0.972987</td>\n",
       "      <td>389.79</td>\n",
       "      <td>NaN</td>\n",
       "      <td>NaN</td>\n",
       "      <td>Transfer</td>\n",
       "    </tr>\n",
       "    <tr>\n",
       "      <th>1</th>\n",
       "      <td>0xdf08f1b6048a3c151737d797c5a5da5892cff66dfdfd...</td>\n",
       "      <td>10595437</td>\n",
       "      <td>1596572800</td>\n",
       "      <td>2020-08-04 20:26:40</td>\n",
       "      <td>0x99fd1378ca799ed6772fe7bcdc9b30b389518962</td>\n",
       "      <td>0x6317c5e82a06e1d8bf200d21f4510ac2c038ac81</td>\n",
       "      <td>NaN</td>\n",
       "      <td>0.000000</td>\n",
       "      <td>0.1</td>\n",
       "      <td>1.103160e+02</td>\n",
       "      <td>0.014775</td>\n",
       "      <td>16.299434</td>\n",
       "      <td>389.79</td>\n",
       "      <td>NaN</td>\n",
       "      <td>NaN</td>\n",
       "      <td>0x4e7ffa04</td>\n",
       "    </tr>\n",
       "    <tr>\n",
       "      <th>2</th>\n",
       "      <td>0x88877e0aff3d534341cbb11d9fa19e5c807a164efd3f...</td>\n",
       "      <td>10601283</td>\n",
       "      <td>1596651242</td>\n",
       "      <td>2020-08-05 18:14:02</td>\n",
       "      <td>0x04045a6c0a9f6ece044510c51b974400ade3ca5b</td>\n",
       "      <td>0x99fd1378ca799ed6772fe7bcdc9b30b389518962</td>\n",
       "      <td>NaN</td>\n",
       "      <td>9.156451</td>\n",
       "      <td>0.0</td>\n",
       "      <td>1.010103e+04</td>\n",
       "      <td>0.001050</td>\n",
       "      <td>1.158318</td>\n",
       "      <td>401.12</td>\n",
       "      <td>NaN</td>\n",
       "      <td>NaN</td>\n",
       "      <td>Transfer</td>\n",
       "    </tr>\n",
       "    <tr>\n",
       "      <th>3</th>\n",
       "      <td>0x63f876ae7c626619a740f26d135dc187f2c1dd24d42f...</td>\n",
       "      <td>10601303</td>\n",
       "      <td>1596651529</td>\n",
       "      <td>2020-08-05 18:18:49</td>\n",
       "      <td>0x99fd1378ca799ed6772fe7bcdc9b30b389518962</td>\n",
       "      <td>0x32666b64e9fd0f44916e1378efb2cfa3b3b96e80</td>\n",
       "      <td>NaN</td>\n",
       "      <td>0.000000</td>\n",
       "      <td>0.0</td>\n",
       "      <td>0.000000e+00</td>\n",
       "      <td>0.004291</td>\n",
       "      <td>4.733408</td>\n",
       "      <td>401.12</td>\n",
       "      <td>NaN</td>\n",
       "      <td>NaN</td>\n",
       "      <td>Mint</td>\n",
       "    </tr>\n",
       "    <tr>\n",
       "      <th>4</th>\n",
       "      <td>0x12c77d689b0a62785e4ab18999382e8ce24c2b927bad...</td>\n",
       "      <td>10601518</td>\n",
       "      <td>1596654093</td>\n",
       "      <td>2020-08-05 19:01:33</td>\n",
       "      <td>0xc098b2a3aa256d2140208c3de6543aaef5cd3a94</td>\n",
       "      <td>0x99fd1378ca799ed6772fe7bcdc9b30b389518962</td>\n",
       "      <td>NaN</td>\n",
       "      <td>2228.526819</td>\n",
       "      <td>0.0</td>\n",
       "      <td>2.458422e+06</td>\n",
       "      <td>0.000983</td>\n",
       "      <td>1.084186</td>\n",
       "      <td>401.12</td>\n",
       "      <td>NaN</td>\n",
       "      <td>NaN</td>\n",
       "      <td>Transfer</td>\n",
       "    </tr>\n",
       "  </tbody>\n",
       "</table>\n",
       "</div>"
      ],
      "text/plain": [
       "                                              Txhash   Blockno  UnixTimestamp  \\\n",
       "0  0x4c3b415bb98370a9ef572567a4e13b61759763c08192...  10595414     1596572493   \n",
       "1  0xdf08f1b6048a3c151737d797c5a5da5892cff66dfdfd...  10595437     1596572800   \n",
       "2  0x88877e0aff3d534341cbb11d9fa19e5c807a164efd3f...  10601283     1596651242   \n",
       "3  0x63f876ae7c626619a740f26d135dc187f2c1dd24d42f...  10601303     1596651529   \n",
       "4  0x12c77d689b0a62785e4ab18999382e8ce24c2b927bad...  10601518     1596654093   \n",
       "\n",
       "              DateTime                                        From  \\\n",
       "0  2020-08-04 20:21:33  0x04045a6c0a9f6ece044510c51b974400ade3ca5b   \n",
       "1  2020-08-04 20:26:40  0x99fd1378ca799ed6772fe7bcdc9b30b389518962   \n",
       "2  2020-08-05 18:14:02  0x04045a6c0a9f6ece044510c51b974400ade3ca5b   \n",
       "3  2020-08-05 18:18:49  0x99fd1378ca799ed6772fe7bcdc9b30b389518962   \n",
       "4  2020-08-05 19:01:33  0xc098b2a3aa256d2140208c3de6543aaef5cd3a94   \n",
       "\n",
       "                                           To  ContractAddress  Value_IN(ETH)  \\\n",
       "0  0x99fd1378ca799ed6772fe7bcdc9b30b389518962              NaN       1.000000   \n",
       "1  0x6317c5e82a06e1d8bf200d21f4510ac2c038ac81              NaN       0.000000   \n",
       "2  0x99fd1378ca799ed6772fe7bcdc9b30b389518962              NaN       9.156451   \n",
       "3  0x32666b64e9fd0f44916e1378efb2cfa3b3b96e80              NaN       0.000000   \n",
       "4  0x99fd1378ca799ed6772fe7bcdc9b30b389518962              NaN    2228.526819   \n",
       "\n",
       "   Value_OUT(ETH)  CurrentValue/Eth  TxnFee(ETH)  TxnFee(USD)  \\\n",
       "0             0.0      1.103160e+03     0.000882     0.972987   \n",
       "1             0.1      1.103160e+02     0.014775    16.299434   \n",
       "2             0.0      1.010103e+04     0.001050     1.158318   \n",
       "3             0.0      0.000000e+00     0.004291     4.733408   \n",
       "4             0.0      2.458422e+06     0.000983     1.084186   \n",
       "\n",
       "   Historical $Price/Eth Status ErrCode      Method  \n",
       "0                 389.79    NaN     NaN    Transfer  \n",
       "1                 389.79    NaN     NaN  0x4e7ffa04  \n",
       "2                 401.12    NaN     NaN    Transfer  \n",
       "3                 401.12    NaN     NaN        Mint  \n",
       "4                 401.12    NaN     NaN    Transfer  "
      ]
     },
     "execution_count": 33,
     "metadata": {},
     "output_type": "execute_result"
    }
   ],
   "source": [
    "merged_df= df1.merge(df2, how= 'outer')\n",
    "merged_df.head()"
   ]
  },
  {
   "cell_type": "code",
   "execution_count": 34,
   "id": "f3bd81aa-935f-49e2-aa8a-7330773adf78",
   "metadata": {},
   "outputs": [
    {
     "data": {
      "text/plain": [
       "(7959, 16)"
      ]
     },
     "execution_count": 34,
     "metadata": {},
     "output_type": "execute_result"
    }
   ],
   "source": [
    "merged_df.shape"
   ]
  },
  {
   "cell_type": "code",
   "execution_count": 35,
   "id": "f2cbc4f6-3e9c-4997-bd29-a03e4a5c799d",
   "metadata": {},
   "outputs": [
    {
     "data": {
      "text/html": [
       "<div>\n",
       "<style scoped>\n",
       "    .dataframe tbody tr th:only-of-type {\n",
       "        vertical-align: middle;\n",
       "    }\n",
       "\n",
       "    .dataframe tbody tr th {\n",
       "        vertical-align: top;\n",
       "    }\n",
       "\n",
       "    .dataframe thead th {\n",
       "        text-align: right;\n",
       "    }\n",
       "</style>\n",
       "<table border=\"1\" class=\"dataframe\">\n",
       "  <thead>\n",
       "    <tr style=\"text-align: right;\">\n",
       "      <th></th>\n",
       "      <th>Txhash</th>\n",
       "      <th>Blockno</th>\n",
       "      <th>DateTime</th>\n",
       "      <th>From</th>\n",
       "      <th>ContractAddress</th>\n",
       "      <th>Method</th>\n",
       "    </tr>\n",
       "  </thead>\n",
       "  <tbody>\n",
       "    <tr>\n",
       "      <th>0</th>\n",
       "      <td>0x4c3b415bb98370a9ef572567a4e13b61759763c08192...</td>\n",
       "      <td>10595414</td>\n",
       "      <td>2020-08-04 20:21:33</td>\n",
       "      <td>0x04045a6c0a9f6ece044510c51b974400ade3ca5b</td>\n",
       "      <td>0x99fd1378ca799ed6772fe7bcdc9b30b389518962</td>\n",
       "      <td>Transfer</td>\n",
       "    </tr>\n",
       "    <tr>\n",
       "      <th>1</th>\n",
       "      <td>0xdf08f1b6048a3c151737d797c5a5da5892cff66dfdfd...</td>\n",
       "      <td>10595437</td>\n",
       "      <td>2020-08-04 20:26:40</td>\n",
       "      <td>0x99fd1378ca799ed6772fe7bcdc9b30b389518962</td>\n",
       "      <td>0x6317c5e82a06e1d8bf200d21f4510ac2c038ac81</td>\n",
       "      <td>0x4e7ffa04</td>\n",
       "    </tr>\n",
       "    <tr>\n",
       "      <th>2</th>\n",
       "      <td>0x88877e0aff3d534341cbb11d9fa19e5c807a164efd3f...</td>\n",
       "      <td>10601283</td>\n",
       "      <td>2020-08-05 18:14:02</td>\n",
       "      <td>0x04045a6c0a9f6ece044510c51b974400ade3ca5b</td>\n",
       "      <td>0x99fd1378ca799ed6772fe7bcdc9b30b389518962</td>\n",
       "      <td>Transfer</td>\n",
       "    </tr>\n",
       "    <tr>\n",
       "      <th>3</th>\n",
       "      <td>0x63f876ae7c626619a740f26d135dc187f2c1dd24d42f...</td>\n",
       "      <td>10601303</td>\n",
       "      <td>2020-08-05 18:18:49</td>\n",
       "      <td>0x99fd1378ca799ed6772fe7bcdc9b30b389518962</td>\n",
       "      <td>0x32666b64e9fd0f44916e1378efb2cfa3b3b96e80</td>\n",
       "      <td>Mint</td>\n",
       "    </tr>\n",
       "    <tr>\n",
       "      <th>4</th>\n",
       "      <td>0x12c77d689b0a62785e4ab18999382e8ce24c2b927bad...</td>\n",
       "      <td>10601518</td>\n",
       "      <td>2020-08-05 19:01:33</td>\n",
       "      <td>0xc098b2a3aa256d2140208c3de6543aaef5cd3a94</td>\n",
       "      <td>0x99fd1378ca799ed6772fe7bcdc9b30b389518962</td>\n",
       "      <td>Transfer</td>\n",
       "    </tr>\n",
       "    <tr>\n",
       "      <th>...</th>\n",
       "      <td>...</td>\n",
       "      <td>...</td>\n",
       "      <td>...</td>\n",
       "      <td>...</td>\n",
       "      <td>...</td>\n",
       "      <td>...</td>\n",
       "    </tr>\n",
       "    <tr>\n",
       "      <th>7954</th>\n",
       "      <td>0x5dbe1e8d515ea5eb791869ff4a1712ae99f2046593f2...</td>\n",
       "      <td>15002273</td>\n",
       "      <td>2022-06-21 12:20:01</td>\n",
       "      <td>0x99fd1378ca799ed6772fe7bcdc9b30b389518962</td>\n",
       "      <td>0xf650c3d88d12db855b8bf7d11be6c55a4e07dcc9</td>\n",
       "      <td>Borrow</td>\n",
       "    </tr>\n",
       "    <tr>\n",
       "      <th>7955</th>\n",
       "      <td>0x66a291561ae9523797464cdb6313eb3a5e153fa1c22c...</td>\n",
       "      <td>15002279</td>\n",
       "      <td>2022-06-21 12:21:46</td>\n",
       "      <td>0x99fd1378ca799ed6772fe7bcdc9b30b389518962</td>\n",
       "      <td>0xdac17f958d2ee523a2206206994597c13d831ec7</td>\n",
       "      <td>Transfer</td>\n",
       "    </tr>\n",
       "    <tr>\n",
       "      <th>7956</th>\n",
       "      <td>0x116d353284aea63fdb93bfd051572676fd9f51f12614...</td>\n",
       "      <td>15011660</td>\n",
       "      <td>2022-06-23 06:39:50</td>\n",
       "      <td>0x99fd1378ca799ed6772fe7bcdc9b30b389518962</td>\n",
       "      <td>0xf650c3d88d12db855b8bf7d11be6c55a4e07dcc9</td>\n",
       "      <td>Repay Borrow</td>\n",
       "    </tr>\n",
       "    <tr>\n",
       "      <th>7957</th>\n",
       "      <td>0x616645142b4b8d32cbf1eec0ea2cee745d8f7114df36...</td>\n",
       "      <td>15012717</td>\n",
       "      <td>2022-06-23 11:24:42</td>\n",
       "      <td>0x99fd1378ca799ed6772fe7bcdc9b30b389518962</td>\n",
       "      <td>0x4ddc2d193948926d02f9b1fe9e1daa0718270ed5</td>\n",
       "      <td>Redeem</td>\n",
       "    </tr>\n",
       "    <tr>\n",
       "      <th>7958</th>\n",
       "      <td>0x2b4d80ad9ec1b8b6bde9ff7800fb0c03757fa4a04c00...</td>\n",
       "      <td>15012721</td>\n",
       "      <td>2022-06-23 11:26:07</td>\n",
       "      <td>0x99fd1378ca799ed6772fe7bcdc9b30b389518962</td>\n",
       "      <td>0xff590dc002e305852179af8e3184d2f640c8362e</td>\n",
       "      <td>Transfer</td>\n",
       "    </tr>\n",
       "  </tbody>\n",
       "</table>\n",
       "<p>7959 rows × 6 columns</p>\n",
       "</div>"
      ],
      "text/plain": [
       "                                                 Txhash   Blockno  \\\n",
       "0     0x4c3b415bb98370a9ef572567a4e13b61759763c08192...  10595414   \n",
       "1     0xdf08f1b6048a3c151737d797c5a5da5892cff66dfdfd...  10595437   \n",
       "2     0x88877e0aff3d534341cbb11d9fa19e5c807a164efd3f...  10601283   \n",
       "3     0x63f876ae7c626619a740f26d135dc187f2c1dd24d42f...  10601303   \n",
       "4     0x12c77d689b0a62785e4ab18999382e8ce24c2b927bad...  10601518   \n",
       "...                                                 ...       ...   \n",
       "7954  0x5dbe1e8d515ea5eb791869ff4a1712ae99f2046593f2...  15002273   \n",
       "7955  0x66a291561ae9523797464cdb6313eb3a5e153fa1c22c...  15002279   \n",
       "7956  0x116d353284aea63fdb93bfd051572676fd9f51f12614...  15011660   \n",
       "7957  0x616645142b4b8d32cbf1eec0ea2cee745d8f7114df36...  15012717   \n",
       "7958  0x2b4d80ad9ec1b8b6bde9ff7800fb0c03757fa4a04c00...  15012721   \n",
       "\n",
       "                 DateTime                                        From  \\\n",
       "0     2020-08-04 20:21:33  0x04045a6c0a9f6ece044510c51b974400ade3ca5b   \n",
       "1     2020-08-04 20:26:40  0x99fd1378ca799ed6772fe7bcdc9b30b389518962   \n",
       "2     2020-08-05 18:14:02  0x04045a6c0a9f6ece044510c51b974400ade3ca5b   \n",
       "3     2020-08-05 18:18:49  0x99fd1378ca799ed6772fe7bcdc9b30b389518962   \n",
       "4     2020-08-05 19:01:33  0xc098b2a3aa256d2140208c3de6543aaef5cd3a94   \n",
       "...                   ...                                         ...   \n",
       "7954  2022-06-21 12:20:01  0x99fd1378ca799ed6772fe7bcdc9b30b389518962   \n",
       "7955  2022-06-21 12:21:46  0x99fd1378ca799ed6772fe7bcdc9b30b389518962   \n",
       "7956  2022-06-23 06:39:50  0x99fd1378ca799ed6772fe7bcdc9b30b389518962   \n",
       "7957  2022-06-23 11:24:42  0x99fd1378ca799ed6772fe7bcdc9b30b389518962   \n",
       "7958  2022-06-23 11:26:07  0x99fd1378ca799ed6772fe7bcdc9b30b389518962   \n",
       "\n",
       "                                 ContractAddress        Method  \n",
       "0     0x99fd1378ca799ed6772fe7bcdc9b30b389518962      Transfer  \n",
       "1     0x6317c5e82a06e1d8bf200d21f4510ac2c038ac81    0x4e7ffa04  \n",
       "2     0x99fd1378ca799ed6772fe7bcdc9b30b389518962      Transfer  \n",
       "3     0x32666b64e9fd0f44916e1378efb2cfa3b3b96e80          Mint  \n",
       "4     0x99fd1378ca799ed6772fe7bcdc9b30b389518962      Transfer  \n",
       "...                                          ...           ...  \n",
       "7954  0xf650c3d88d12db855b8bf7d11be6c55a4e07dcc9        Borrow  \n",
       "7955  0xdac17f958d2ee523a2206206994597c13d831ec7      Transfer  \n",
       "7956  0xf650c3d88d12db855b8bf7d11be6c55a4e07dcc9  Repay Borrow  \n",
       "7957  0x4ddc2d193948926d02f9b1fe9e1daa0718270ed5        Redeem  \n",
       "7958  0xff590dc002e305852179af8e3184d2f640c8362e      Transfer  \n",
       "\n",
       "[7959 rows x 6 columns]"
      ]
     },
     "execution_count": 35,
     "metadata": {},
     "output_type": "execute_result"
    }
   ],
   "source": [
    "# create user dataframe \n",
    "user_df = merged_df[['Txhash', 'Blockno','DateTime', 'From', 'To','Method']]\n",
    "user_df = user_df.rename(columns= ({'To' : 'ContractAddress'}))              \n",
    "user_df"
   ]
  },
  {
   "cell_type": "code",
   "execution_count": 36,
   "id": "b54a457c-6ee6-4cef-9c11-cff95ad94516",
   "metadata": {},
   "outputs": [
    {
     "data": {
      "text/plain": [
       "Transfer                                                       905\n",
       "Approve                                                        539\n",
       "Deposit                                                        506\n",
       "Borrow                                                         491\n",
       "Mint                                                           436\n",
       "                                                              ... \n",
       "Delegate                                                         1\n",
       "Deposit ERC20For User                                            1\n",
       "Unstake                                                          1\n",
       "Swap                                                             1\n",
       "Swap Exact Tokens For ETH Supporting Fee On Transfer Tokens      1\n",
       "Name: Method, Length: 117, dtype: int64"
      ]
     },
     "execution_count": 36,
     "metadata": {},
     "output_type": "execute_result"
    }
   ],
   "source": [
    "# count of frequency \n",
    "user_df.Method.value_counts()"
   ]
  },
  {
   "cell_type": "code",
   "execution_count": 37,
   "id": "8a4c2a68-3752-4084-a917-c85c2553bd28",
   "metadata": {},
   "outputs": [
    {
     "data": {
      "text/plain": [
       "Txhash             7954\n",
       "Blockno            7389\n",
       "DateTime           7389\n",
       "From                 54\n",
       "ContractAddress     397\n",
       "Method              117\n",
       "dtype: int64"
      ]
     },
     "execution_count": 37,
     "metadata": {},
     "output_type": "execute_result"
    }
   ],
   "source": [
    "# number of unique data in each colomn\n",
    "user_df.nunique()"
   ]
  },
  {
   "cell_type": "code",
   "execution_count": 38,
   "id": "43253338-83d3-4b1e-9f37-3cb3f2eb5264",
   "metadata": {},
   "outputs": [
    {
     "data": {
      "text/plain": [
       "0    0x99fd1378ca799ed6772fe7bcdc9b30b389518962\n",
       "Name: From, dtype: object"
      ]
     },
     "execution_count": 38,
     "metadata": {},
     "output_type": "execute_result"
    }
   ],
   "source": [
    "# the value that appears most often in the colomn \"From\"\n",
    "user_df.From.mode()"
   ]
  },
  {
   "cell_type": "code",
   "execution_count": 39,
   "id": "1b0024d5-edcf-4219-9cb0-a83fbb6bd901",
   "metadata": {},
   "outputs": [
    {
     "data": {
      "text/plain": [
       "0    0xdef1c0ded9bec7f1a1670819833240f027b25eff\n",
       "Name: ContractAddress, dtype: object"
      ]
     },
     "execution_count": 39,
     "metadata": {},
     "output_type": "execute_result"
    }
   ],
   "source": [
    "# the value that appears most often in the colomn \"ContractAddress\"\n",
    "user_df.ContractAddress.mode()"
   ]
  },
  {
   "cell_type": "markdown",
   "id": "351a95d0-a54b-4093-a55b-d8740fc13932",
   "metadata": {
    "tags": []
   },
   "source": [
    "### averege number of txs"
   ]
  },
  {
   "cell_type": "code",
   "execution_count": 40,
   "id": "ce2bd46a-0040-47b3-95a0-492951cf7ad2",
   "metadata": {},
   "outputs": [
    {
     "data": {
      "text/plain": [
       "20.047858942065492"
      ]
     },
     "execution_count": 40,
     "metadata": {},
     "output_type": "execute_result"
    }
   ],
   "source": [
    "tot_number_of_txs = len(user_df['Txhash'])\n",
    "numer_of_unique_resiever = user_df.ContractAddress.nunique()\n",
    "avg_value_of_txs = tot_number_of_txs / numer_of_unique_resiever\n",
    "avg_value_of_txs"
   ]
  },
  {
   "cell_type": "code",
   "execution_count": 41,
   "id": "527e60c8-1d60-43fb-87d9-76b815ac14c2",
   "metadata": {},
   "outputs": [
    {
     "data": {
      "text/plain": [
       "0x99fd1378ca799ed6772fe7bcdc9b30b389518962    0.958035\n",
       "0xc098b2a3aa256d2140208c3de6543aaef5cd3a94    0.012941\n",
       "0x2a67035357c3045438f3a92e46870a9e48e5aab7    0.011308\n",
       "0x937cdc9e86ba06aa5aaea221017a1d9fc7f59efd    0.005151\n",
       "0x1ec4de886d40d487366cde7664767db1df6a02e7    0.003141\n",
       "0xc333e80ef2dec2805f239e3f1e810612d294f771    0.001005\n",
       "0x58f56615180a8eea4c462235d9e215f72484b4a3    0.000880\n",
       "0xeb40a64c0f87922b2f0696c7308b7a674deffba5    0.000377\n",
       "0x37d5c0b8dee9ed63291f3e734f96cacd8cf3b73e    0.000377\n",
       "0xab07bf2548bc22b9211469a11d09f83d26611d72    0.000377\n",
       "Name: From, dtype: float64"
      ]
     },
     "execution_count": 41,
     "metadata": {},
     "output_type": "execute_result"
    }
   ],
   "source": [
    "#number of tx's by unique sender\n",
    "user_df.From.value_counts(normalize=True).head(10)\n"
   ]
  },
  {
   "cell_type": "code",
   "execution_count": 42,
   "id": "759c694c-5bed-44c2-890c-cfbfb37cd098",
   "metadata": {},
   "outputs": [
    {
     "data": {
      "text/plain": [
       "0xdef1c0ded9bec7f1a1670819833240f027b25eff    0.061691\n",
       "0x39aa39c021dfbae8fac545936693ac917d5e7563    0.046488\n",
       "0x99fd1378ca799ed6772fe7bcdc9b30b389518962    0.046111\n",
       "0xd061d61a4d941c39e5453435b6345dc261c2fce0    0.042719\n",
       "0x4ddc2d193948926d02f9b1fe9e1daa0718270ed5    0.041211\n",
       "0xf650c3d88d12db855b8bf7d11be6c55a4e07dcc9    0.035809\n",
       "0x7a250d5630b4cf539739df2c5dacb4c659f2488d    0.025757\n",
       "0xccf4429db6322d5c611ee964527d42e5d685dd6a    0.024877\n",
       "0x5d3a536e4d6dbd6114cc1ead35777bab948e3643    0.022742\n",
       "0xa0b86991c6218b36c1d19d4a2e9eb0ce3606eb48    0.022490\n",
       "0x920d9bd936da4eafb5e25c6bdc9f6cb528953f9f    0.021988\n",
       "0x3d9819210a31b4961b30ef54be2aed79b9c9cd3b    0.020480\n",
       "0xbebc44782c7db0a1a60cb6fe97d0b483032ff1c7    0.020229\n",
       "0xdac17f958d2ee523a2206206994597c13d831ec7    0.018093\n",
       "0xa79828df1850e8a3a3064576f380d90aecdd3359    0.018093\n",
       "0x094d12e5b541784701fd8d65f11fc0598fbc6332    0.015957\n",
       "0xd9e1ce17f2641f24ae83637ab66a2cca9c378b9f    0.014826\n",
       "0xd533a949740bb3306d119cc777fa900ba034cd52    0.013444\n",
       "0xc2edad668740f1aa35e4d8f227fb8e17dca888cd    0.012439\n",
       "0xf859a1ad94bcf445a406b892ef0d3082f4174088    0.011936\n",
       "0xf403c135812408bfbe8713b5a23a04b3d48aae31    0.011811\n",
       "0x92cf9e5e4d1dfbf7da0d2bb3e884a68416a65070    0.010805\n",
       "0xf98450b5602fa59cc66e1379dffb6fddc724cfc4    0.010554\n",
       "0x92be6adb6a12da0ca607f9d87db2f9978cd6ec3e    0.009549\n",
       "0x67b66c99d3eb37fa76aa3ed1ff33e8e39f0b9c7a    0.008795\n",
       "0x2260fac5e5542a773aa44fbcfedf7c193bc2c599    0.008544\n",
       "0x182b723a58739a9c974cfdb385ceadb237453c28    0.007790\n",
       "0xd6b88257e91e4e4d4e990b3a858c849ef2dfde8c    0.006659\n",
       "0x5a6a4d54456819380173272a5e8e9b9904bdf41b    0.006659\n",
       "0xd8b712d29381748db89c36bca0138d7c75866ddf    0.006533\n",
       "Name: ContractAddress, dtype: float64"
      ]
     },
     "execution_count": 42,
     "metadata": {},
     "output_type": "execute_result"
    }
   ],
   "source": [
    "#number of tx's by unique reciever\n",
    "user_df.ContractAddress.value_counts(normalize=True).head(30)\n"
   ]
  },
  {
   "cell_type": "markdown",
   "id": "124a9aa1-74a6-487c-99b7-df44e1c043a2",
   "metadata": {
    "tags": []
   },
   "source": [
    "### addresses used more often than AVG"
   ]
  },
  {
   "cell_type": "code",
   "execution_count": 43,
   "id": "3dde12de-1d48-4f1d-aadc-b8b8b645e297",
   "metadata": {},
   "outputs": [
    {
     "data": {
      "text/html": [
       "<div>\n",
       "<style scoped>\n",
       "    .dataframe tbody tr th:only-of-type {\n",
       "        vertical-align: middle;\n",
       "    }\n",
       "\n",
       "    .dataframe tbody tr th {\n",
       "        vertical-align: top;\n",
       "    }\n",
       "\n",
       "    .dataframe thead th {\n",
       "        text-align: right;\n",
       "    }\n",
       "</style>\n",
       "<table border=\"1\" class=\"dataframe\">\n",
       "  <thead>\n",
       "    <tr style=\"text-align: right;\">\n",
       "      <th></th>\n",
       "      <th>ContractAddress</th>\n",
       "      <th>number_of_txs</th>\n",
       "    </tr>\n",
       "  </thead>\n",
       "  <tbody>\n",
       "    <tr>\n",
       "      <th>0</th>\n",
       "      <td>0xdef1c0ded9bec7f1a1670819833240f027b25eff</td>\n",
       "      <td>491</td>\n",
       "    </tr>\n",
       "    <tr>\n",
       "      <th>1</th>\n",
       "      <td>0x39aa39c021dfbae8fac545936693ac917d5e7563</td>\n",
       "      <td>370</td>\n",
       "    </tr>\n",
       "    <tr>\n",
       "      <th>2</th>\n",
       "      <td>0x99fd1378ca799ed6772fe7bcdc9b30b389518962</td>\n",
       "      <td>367</td>\n",
       "    </tr>\n",
       "    <tr>\n",
       "      <th>3</th>\n",
       "      <td>0xd061d61a4d941c39e5453435b6345dc261c2fce0</td>\n",
       "      <td>340</td>\n",
       "    </tr>\n",
       "    <tr>\n",
       "      <th>4</th>\n",
       "      <td>0x4ddc2d193948926d02f9b1fe9e1daa0718270ed5</td>\n",
       "      <td>328</td>\n",
       "    </tr>\n",
       "    <tr>\n",
       "      <th>...</th>\n",
       "      <td>...</td>\n",
       "      <td>...</td>\n",
       "    </tr>\n",
       "    <tr>\n",
       "      <th>69</th>\n",
       "      <td>0x6317c5e82a06e1d8bf200d21f4510ac2c038ac81</td>\n",
       "      <td>22</td>\n",
       "    </tr>\n",
       "    <tr>\n",
       "      <th>70</th>\n",
       "      <td>0x067d4d3ce63450e74f880f86b5b52ea3edf9db0f</td>\n",
       "      <td>22</td>\n",
       "    </tr>\n",
       "    <tr>\n",
       "      <th>71</th>\n",
       "      <td>0x9dd5b5c71842a4fd51533532e5470298bfa398fd</td>\n",
       "      <td>22</td>\n",
       "    </tr>\n",
       "    <tr>\n",
       "      <th>72</th>\n",
       "      <td>0xa5407eae9ba41422680e2e00537571bcc53efbfd</td>\n",
       "      <td>21</td>\n",
       "    </tr>\n",
       "    <tr>\n",
       "      <th>73</th>\n",
       "      <td>0xcfe1103863f9e7cf3452ca8932eef44d314bf9c5</td>\n",
       "      <td>21</td>\n",
       "    </tr>\n",
       "  </tbody>\n",
       "</table>\n",
       "<p>74 rows × 2 columns</p>\n",
       "</div>"
      ],
      "text/plain": [
       "                               ContractAddress  number_of_txs\n",
       "0   0xdef1c0ded9bec7f1a1670819833240f027b25eff            491\n",
       "1   0x39aa39c021dfbae8fac545936693ac917d5e7563            370\n",
       "2   0x99fd1378ca799ed6772fe7bcdc9b30b389518962            367\n",
       "3   0xd061d61a4d941c39e5453435b6345dc261c2fce0            340\n",
       "4   0x4ddc2d193948926d02f9b1fe9e1daa0718270ed5            328\n",
       "..                                         ...            ...\n",
       "69  0x6317c5e82a06e1d8bf200d21f4510ac2c038ac81             22\n",
       "70  0x067d4d3ce63450e74f880f86b5b52ea3edf9db0f             22\n",
       "71  0x9dd5b5c71842a4fd51533532e5470298bfa398fd             22\n",
       "72  0xa5407eae9ba41422680e2e00537571bcc53efbfd             21\n",
       "73  0xcfe1103863f9e7cf3452ca8932eef44d314bf9c5             21\n",
       "\n",
       "[74 rows x 2 columns]"
      ]
     },
     "execution_count": 43,
     "metadata": {},
     "output_type": "execute_result"
    }
   ],
   "source": [
    "txs_by_address=user_df.groupby(['ContractAddress'])\\\n",
    "                      .agg({'Method':'count'})\\\n",
    "                      .rename(columns={\"Method\": \"number_of_txs\"})\\\n",
    "                      .query('number_of_txs > 20.048')\\\n",
    "                      .sort_values(by='number_of_txs', ascending=False)\n",
    "                      \n",
    "txs_by_address.reset_index()"
   ]
  },
  {
   "cell_type": "code",
   "execution_count": 44,
   "id": "fddf7d82-1363-4ace-9bb3-a7d178312e7a",
   "metadata": {},
   "outputs": [
    {
     "data": {
      "image/png": "[encoded data removed]",
      "text/plain": [
       "<Figure size 432x288 with 1 Axes>"
      ]
     },
     "metadata": {
      "needs_background": "light"
     },
     "output_type": "display_data"
    }
   ],
   "source": [
    "ax = txs_by_address.head(10).plot.barh(rot=0)\n"
   ]
  },
  {
   "cell_type": "markdown",
   "id": "92ebc708-392b-4121-bb23-9c5a2c0c82e9",
   "metadata": {
    "tags": []
   },
   "source": [
    "### ERC20 Token"
   ]
  },
  {
   "cell_type": "code",
   "execution_count": 45,
   "id": "12f48026-8347-48ec-bf98-3c6d5ab164a2",
   "metadata": {},
   "outputs": [
    {
     "data": {
      "text/html": [
       "<div>\n",
       "<style scoped>\n",
       "    .dataframe tbody tr th:only-of-type {\n",
       "        vertical-align: middle;\n",
       "    }\n",
       "\n",
       "    .dataframe tbody tr th {\n",
       "        vertical-align: top;\n",
       "    }\n",
       "\n",
       "    .dataframe thead th {\n",
       "        text-align: right;\n",
       "    }\n",
       "</style>\n",
       "<table border=\"1\" class=\"dataframe\">\n",
       "  <thead>\n",
       "    <tr style=\"text-align: right;\">\n",
       "      <th></th>\n",
       "      <th>Txhash</th>\n",
       "      <th>UnixTimestamp</th>\n",
       "      <th>DateTime</th>\n",
       "      <th>From</th>\n",
       "      <th>To</th>\n",
       "      <th>Value</th>\n",
       "      <th>ContractAddress</th>\n",
       "      <th>TokenName</th>\n",
       "      <th>TokenSymbol</th>\n",
       "    </tr>\n",
       "  </thead>\n",
       "  <tbody>\n",
       "    <tr>\n",
       "      <th>0</th>\n",
       "      <td>0x8493f85b1c77d0296ad46cf244563e078873da4e91a2...</td>\n",
       "      <td>1606788524</td>\n",
       "      <td>2020-12-01 02:08:44</td>\n",
       "      <td>0x3d9819210a31b4961b30ef54be2aed79b9c9cd3b</td>\n",
       "      <td>0x99fd1378ca799ed6772fe7bcdc9b30b389518962</td>\n",
       "      <td>9.627809186766197696</td>\n",
       "      <td>0xc00e94cb662c3520282e6f5717214004a7f26888</td>\n",
       "      <td>Compound</td>\n",
       "      <td>COMP</td>\n",
       "    </tr>\n",
       "    <tr>\n",
       "      <th>1</th>\n",
       "      <td>0x8493f85b1c77d0296ad46cf244563e078873da4e91a2...</td>\n",
       "      <td>1606788524</td>\n",
       "      <td>2020-12-01 02:08:44</td>\n",
       "      <td>0x39aa39c021dfbae8fac545936693ac917d5e7563</td>\n",
       "      <td>0x99fd1378ca799ed6772fe7bcdc9b30b389518962</td>\n",
       "      <td>2,312,972.026827</td>\n",
       "      <td>0xa0b86991c6218b36c1d19d4a2e9eb0ce3606eb48</td>\n",
       "      <td>USD Coin</td>\n",
       "      <td>USDC</td>\n",
       "    </tr>\n",
       "    <tr>\n",
       "      <th>2</th>\n",
       "      <td>0x67e6d99aa290ea7712f77b3729d720d7a4c73590f369...</td>\n",
       "      <td>1606788700</td>\n",
       "      <td>2020-12-01 02:11:40</td>\n",
       "      <td>0x99fd1378ca799ed6772fe7bcdc9b30b389518962</td>\n",
       "      <td>0x094d12e5b541784701fd8d65f11fc0598fbc6332</td>\n",
       "      <td>10,609.30770868615774208</td>\n",
       "      <td>0x674c6ad92fd080e4004b2312b45f796a192d27a0</td>\n",
       "      <td>Neutrino USD</td>\n",
       "      <td>USDN</td>\n",
       "    </tr>\n",
       "    <tr>\n",
       "      <th>3</th>\n",
       "      <td>0x67e6d99aa290ea7712f77b3729d720d7a4c73590f369...</td>\n",
       "      <td>1606788700</td>\n",
       "      <td>2020-12-01 02:11:40</td>\n",
       "      <td>0x99fd1378ca799ed6772fe7bcdc9b30b389518962</td>\n",
       "      <td>0x094d12e5b541784701fd8d65f11fc0598fbc6332</td>\n",
       "      <td>2,312,972.026827</td>\n",
       "      <td>0xa0b86991c6218b36c1d19d4a2e9eb0ce3606eb48</td>\n",
       "      <td>USD Coin</td>\n",
       "      <td>USDC</td>\n",
       "    </tr>\n",
       "    <tr>\n",
       "      <th>4</th>\n",
       "      <td>0x67e6d99aa290ea7712f77b3729d720d7a4c73590f369...</td>\n",
       "      <td>1606788700</td>\n",
       "      <td>2020-12-01 02:11:40</td>\n",
       "      <td>0x094d12e5b541784701fd8d65f11fc0598fbc6332</td>\n",
       "      <td>0x99fd1378ca799ed6772fe7bcdc9b30b389518962</td>\n",
       "      <td>2,311,677.10942819944146345</td>\n",
       "      <td>0x4f3e8f405cf5afc05d68142f3783bdfe13811522</td>\n",
       "      <td>Curve.fi USDN/3Crv</td>\n",
       "      <td>usdn3CRV</td>\n",
       "    </tr>\n",
       "  </tbody>\n",
       "</table>\n",
       "</div>"
      ],
      "text/plain": [
       "                                              Txhash  UnixTimestamp  \\\n",
       "0  0x8493f85b1c77d0296ad46cf244563e078873da4e91a2...     1606788524   \n",
       "1  0x8493f85b1c77d0296ad46cf244563e078873da4e91a2...     1606788524   \n",
       "2  0x67e6d99aa290ea7712f77b3729d720d7a4c73590f369...     1606788700   \n",
       "3  0x67e6d99aa290ea7712f77b3729d720d7a4c73590f369...     1606788700   \n",
       "4  0x67e6d99aa290ea7712f77b3729d720d7a4c73590f369...     1606788700   \n",
       "\n",
       "              DateTime                                        From  \\\n",
       "0  2020-12-01 02:08:44  0x3d9819210a31b4961b30ef54be2aed79b9c9cd3b   \n",
       "1  2020-12-01 02:08:44  0x39aa39c021dfbae8fac545936693ac917d5e7563   \n",
       "2  2020-12-01 02:11:40  0x99fd1378ca799ed6772fe7bcdc9b30b389518962   \n",
       "3  2020-12-01 02:11:40  0x99fd1378ca799ed6772fe7bcdc9b30b389518962   \n",
       "4  2020-12-01 02:11:40  0x094d12e5b541784701fd8d65f11fc0598fbc6332   \n",
       "\n",
       "                                           To                        Value  \\\n",
       "0  0x99fd1378ca799ed6772fe7bcdc9b30b389518962         9.627809186766197696   \n",
       "1  0x99fd1378ca799ed6772fe7bcdc9b30b389518962             2,312,972.026827   \n",
       "2  0x094d12e5b541784701fd8d65f11fc0598fbc6332     10,609.30770868615774208   \n",
       "3  0x094d12e5b541784701fd8d65f11fc0598fbc6332             2,312,972.026827   \n",
       "4  0x99fd1378ca799ed6772fe7bcdc9b30b389518962  2,311,677.10942819944146345   \n",
       "\n",
       "                              ContractAddress           TokenName TokenSymbol  \n",
       "0  0xc00e94cb662c3520282e6f5717214004a7f26888            Compound        COMP  \n",
       "1  0xa0b86991c6218b36c1d19d4a2e9eb0ce3606eb48            USD Coin        USDC  \n",
       "2  0x674c6ad92fd080e4004b2312b45f796a192d27a0        Neutrino USD        USDN  \n",
       "3  0xa0b86991c6218b36c1d19d4a2e9eb0ce3606eb48            USD Coin        USDC  \n",
       "4  0x4f3e8f405cf5afc05d68142f3783bdfe13811522  Curve.fi USDN/3Crv    usdn3CRV  "
      ]
     },
     "execution_count": 45,
     "metadata": {},
     "output_type": "execute_result"
    }
   ],
   "source": [
    "df_ERC20 = pd.read_csv('ERC_20_part_1.csv', index_col=False)\n",
    "df_ERC20_2 = pd.read_csv('ERC_20_part_2.csv', index_col=False)\n",
    "df_ERC20_3 = pd.read_csv('ERC_20_part_3.csv', index_col=False)\n",
    "erc20_df= df_ERC20.merge(df_ERC20_2, how= 'outer')\n",
    "tot_erc20= erc20_df.merge(df_ERC20_3, how= 'outer')\n",
    "tot_erc20.head()\n",
    "\n"
   ]
  },
  {
   "cell_type": "code",
   "execution_count": 46,
   "id": "84226c4a-3165-42f2-8c7f-6b461dfe1e8b",
   "metadata": {},
   "outputs": [
    {
     "data": {
      "text/plain": [
       "0x99fd1378ca799ed6772fe7bcdc9b30b389518962    0.339218\n",
       "0x0000000000000000000000000000000000000000    0.137182\n",
       "0x3d9819210a31b4961b30ef54be2aed79b9c9cd3b    0.046928\n",
       "0x39aa39c021dfbae8fac545936693ac917d5e7563    0.018825\n",
       "0x2faf487a4414fe77e2327f0bf4ae2a264a776ad2    0.018555\n",
       "Name: From, dtype: float64"
      ]
     },
     "execution_count": 46,
     "metadata": {},
     "output_type": "execute_result"
    }
   ],
   "source": [
    "tot_erc20.From.value_counts(normalize=True).head()"
   ]
  },
  {
   "cell_type": "code",
   "execution_count": 47,
   "id": "55f63c84-05e6-4d6b-8723-2bcb8d0aad69",
   "metadata": {},
   "outputs": [
    {
     "data": {
      "text/plain": [
       "686"
      ]
     },
     "execution_count": 47,
     "metadata": {},
     "output_type": "execute_result"
    }
   ],
   "source": [
    "tot_erc20.From.nunique()"
   ]
  },
  {
   "cell_type": "code",
   "execution_count": 48,
   "id": "f56192e0-d587-495f-aa13-5da582b8da13",
   "metadata": {},
   "outputs": [
    {
     "data": {
      "text/plain": [
       "0    0x99fd1378ca799ed6772fe7bcdc9b30b389518962\n",
       "Name: From, dtype: object"
      ]
     },
     "execution_count": 48,
     "metadata": {},
     "output_type": "execute_result"
    }
   ],
   "source": [
    "tot_erc20.From.mode()"
   ]
  },
  {
   "cell_type": "code",
   "execution_count": 49,
   "id": "57124e60-5c67-4ac1-92bf-fe0085b91a33",
   "metadata": {},
   "outputs": [
    {
     "data": {
      "text/plain": [
       "0xd533a949740bb3306d119cc777fa900ba034cd52    0.121149\n",
       "0xa0b86991c6218b36c1d19d4a2e9eb0ce3606eb48    0.105116\n",
       "0xdac17f958d2ee523a2206206994597c13d831ec7    0.094668\n",
       "0xc00e94cb662c3520282e6f5717214004a7f26888    0.061430\n",
       "0x4e3fbd56cd56c3e72c1403e103b45db9da5b9d2b    0.051973\n",
       "                                                ...   \n",
       "0x4d98ed5510dc8d9e06e7f24d0b8a257c62ca5b2b    0.000090\n",
       "0xfb8688a7eb1ad431f3957103b2bd014fb2228cfa    0.000090\n",
       "0xfb8c4fbdb022e502593ef07161ecc424983cc1f1    0.000090\n",
       "0x01180d350f23e143d9bd4627355866ba5a39ec32    0.000090\n",
       "0x818430846709b978612737e887d4f19b331576c0    0.000090\n",
       "Name: ContractAddress, Length: 574, dtype: float64"
      ]
     },
     "execution_count": 49,
     "metadata": {},
     "output_type": "execute_result"
    }
   ],
   "source": [
    "tot_erc20.ContractAddress.value_counts(normalize=True)"
   ]
  },
  {
   "cell_type": "code",
   "execution_count": 50,
   "id": "85a3e543-bc3c-4d99-b8d7-5428dce5b0d6",
   "metadata": {},
   "outputs": [
    {
     "data": {
      "text/plain": [
       "574"
      ]
     },
     "execution_count": 50,
     "metadata": {},
     "output_type": "execute_result"
    }
   ],
   "source": [
    "tot_erc20.ContractAddress.nunique()"
   ]
  },
  {
   "cell_type": "code",
   "execution_count": 51,
   "id": "470df659-1d82-45f3-b261-c9beb3cf17d8",
   "metadata": {},
   "outputs": [
    {
     "data": {
      "text/plain": [
       "0    0xd533a949740bb3306d119cc777fa900ba034cd52\n",
       "Name: ContractAddress, dtype: object"
      ]
     },
     "execution_count": 51,
     "metadata": {},
     "output_type": "execute_result"
    }
   ],
   "source": [
    "tot_erc20.ContractAddress.mode()"
   ]
  },
  {
   "cell_type": "markdown",
   "id": "9ed2b80e-ff91-4982-9eb5-6761dc648401",
   "metadata": {
    "tags": []
   },
   "source": [
    "### averege number of txs by token"
   ]
  },
  {
   "cell_type": "code",
   "execution_count": 52,
   "id": "4b143d91-fd1b-47da-829e-396f737bccee",
   "metadata": {},
   "outputs": [
    {
     "data": {
      "text/plain": [
       "19.341463414634145"
      ]
     },
     "execution_count": 52,
     "metadata": {},
     "output_type": "execute_result"
    }
   ],
   "source": [
    "number_of_txs = len(tot_erc20['Txhash'])\n",
    "numer_of_unique_contracts = tot_erc20.ContractAddress.nunique()\n",
    "avg_value_of_txs_t = number_of_txs / numer_of_unique_contracts\n",
    "avg_value_of_txs_t"
   ]
  },
  {
   "cell_type": "markdown",
   "id": "84f8541c-ee42-462d-9fd5-aeb93437b039",
   "metadata": {},
   "source": [
    "### addresses by token used more often than AVG"
   ]
  },
  {
   "cell_type": "code",
   "execution_count": 53,
   "id": "07cca9ff-42c3-4ee8-bff8-3e59e4a45c08",
   "metadata": {},
   "outputs": [
    {
     "data": {
      "text/html": [
       "<div>\n",
       "<style scoped>\n",
       "    .dataframe tbody tr th:only-of-type {\n",
       "        vertical-align: middle;\n",
       "    }\n",
       "\n",
       "    .dataframe tbody tr th {\n",
       "        vertical-align: top;\n",
       "    }\n",
       "\n",
       "    .dataframe thead th {\n",
       "        text-align: right;\n",
       "    }\n",
       "</style>\n",
       "<table border=\"1\" class=\"dataframe\">\n",
       "  <thead>\n",
       "    <tr style=\"text-align: right;\">\n",
       "      <th></th>\n",
       "      <th>ContractAddress</th>\n",
       "      <th>TokenSymbol</th>\n",
       "      <th>numer_of_unique_token</th>\n",
       "    </tr>\n",
       "  </thead>\n",
       "  <tbody>\n",
       "    <tr>\n",
       "      <th>0</th>\n",
       "      <td>0xd533a949740bb3306d119cc777fa900ba034cd52</td>\n",
       "      <td>CRV</td>\n",
       "      <td>1345</td>\n",
       "    </tr>\n",
       "    <tr>\n",
       "      <th>1</th>\n",
       "      <td>0xa0b86991c6218b36c1d19d4a2e9eb0ce3606eb48</td>\n",
       "      <td>USDC</td>\n",
       "      <td>1167</td>\n",
       "    </tr>\n",
       "    <tr>\n",
       "      <th>2</th>\n",
       "      <td>0xdac17f958d2ee523a2206206994597c13d831ec7</td>\n",
       "      <td>USDT</td>\n",
       "      <td>1051</td>\n",
       "    </tr>\n",
       "    <tr>\n",
       "      <th>3</th>\n",
       "      <td>0xc00e94cb662c3520282e6f5717214004a7f26888</td>\n",
       "      <td>COMP</td>\n",
       "      <td>682</td>\n",
       "    </tr>\n",
       "    <tr>\n",
       "      <th>4</th>\n",
       "      <td>0x4e3fbd56cd56c3e72c1403e103b45db9da5b9d2b</td>\n",
       "      <td>CVX</td>\n",
       "      <td>577</td>\n",
       "    </tr>\n",
       "    <tr>\n",
       "      <th>5</th>\n",
       "      <td>0x6b175474e89094c44da98b954eedeac495271d0f</td>\n",
       "      <td>DAI</td>\n",
       "      <td>525</td>\n",
       "    </tr>\n",
       "    <tr>\n",
       "      <th>6</th>\n",
       "      <td>0x2260fac5e5542a773aa44fbcfedf7c193bc2c599</td>\n",
       "      <td>WBTC</td>\n",
       "      <td>486</td>\n",
       "    </tr>\n",
       "    <tr>\n",
       "      <th>7</th>\n",
       "      <td>0x99d8a9c45b2eca8864373a26d1459e3dff1e17f3</td>\n",
       "      <td>MIM</td>\n",
       "      <td>310</td>\n",
       "    </tr>\n",
       "    <tr>\n",
       "      <th>8</th>\n",
       "      <td>0x4f3e8f405cf5afc05d68142f3783bdfe13811522</td>\n",
       "      <td>usdn3CRV</td>\n",
       "      <td>269</td>\n",
       "    </tr>\n",
       "    <tr>\n",
       "      <th>9</th>\n",
       "      <td>0x5a6a4d54456819380173272a5e8e9b9904bdf41b</td>\n",
       "      <td>MIM-3LP3CRV-f</td>\n",
       "      <td>264</td>\n",
       "    </tr>\n",
       "  </tbody>\n",
       "</table>\n",
       "</div>"
      ],
      "text/plain": [
       "                              ContractAddress    TokenSymbol  \\\n",
       "0  0xd533a949740bb3306d119cc777fa900ba034cd52            CRV   \n",
       "1  0xa0b86991c6218b36c1d19d4a2e9eb0ce3606eb48           USDC   \n",
       "2  0xdac17f958d2ee523a2206206994597c13d831ec7           USDT   \n",
       "3  0xc00e94cb662c3520282e6f5717214004a7f26888           COMP   \n",
       "4  0x4e3fbd56cd56c3e72c1403e103b45db9da5b9d2b            CVX   \n",
       "5  0x6b175474e89094c44da98b954eedeac495271d0f            DAI   \n",
       "6  0x2260fac5e5542a773aa44fbcfedf7c193bc2c599           WBTC   \n",
       "7  0x99d8a9c45b2eca8864373a26d1459e3dff1e17f3            MIM   \n",
       "8  0x4f3e8f405cf5afc05d68142f3783bdfe13811522       usdn3CRV   \n",
       "9  0x5a6a4d54456819380173272a5e8e9b9904bdf41b  MIM-3LP3CRV-f   \n",
       "\n",
       "   numer_of_unique_token  \n",
       "0                   1345  \n",
       "1                   1167  \n",
       "2                   1051  \n",
       "3                    682  \n",
       "4                    577  \n",
       "5                    525  \n",
       "6                    486  \n",
       "7                    310  \n",
       "8                    269  \n",
       "9                    264  "
      ]
     },
     "execution_count": 53,
     "metadata": {},
     "output_type": "execute_result"
    }
   ],
   "source": [
    "txs_by_token=tot_erc20.groupby(['ContractAddress','TokenSymbol'])\\\n",
    "                      .agg({'TokenSymbol':'count'})\\\n",
    "                      .rename(columns={\"TokenSymbol\": \"numer_of_unique_token\"})\\\n",
    "                      .query('numer_of_unique_token > 19.341')\\\n",
    "                      .sort_values(by='numer_of_unique_token', ascending=False)\n",
    "       \n",
    "txs_by_token.reset_index().head(10)"
   ]
  },
  {
   "cell_type": "code",
   "execution_count": 54,
   "id": "c281c776-63d5-4096-ac1c-e21377e4ad80",
   "metadata": {},
   "outputs": [
    {
     "data": {
      "image/png": "[encoded data removed]",
      "text/plain": [
       "<Figure size 432x288 with 1 Axes>"
      ]
     },
     "metadata": {
      "needs_background": "light"
     },
     "output_type": "display_data"
    }
   ],
   "source": [
    "ax = txs_by_token.head(10).plot.barh(rot=0)"
   ]
  }
 ],
 "metadata": {
  "kernelspec": {
   "display_name": "Python 3 (ipykernel)",
   "language": "python",
   "name": "python3"
  },
  "language_info": {
   "codemirror_mode": {
    "name": "ipython",
    "version": 3
   },
   "file_extension": ".py",
   "mimetype": "text/x-python",
   "name": "python",
   "nbconvert_exporter": "python",
   "pygments_lexer": "ipython3",
   "version": "3.10.3"
  }
 },
 "nbformat": 4,
 "nbformat_minor": 5
}
